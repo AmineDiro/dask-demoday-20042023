{
 "cells": [
  {
   "cell_type": "code",
   "execution_count": null,
   "id": "e8709590-b57d-4a46-8566-ce46f168acd8",
   "metadata": {},
   "outputs": [],
   "source": [
    "%load_ext autoreload\n",
    "%autoreload 2"
   ]
  },
  {
   "cell_type": "markdown",
   "id": "59cdc189-8601-40fb-bd02-fbd0ea26f726",
   "metadata": {
    "jp-MarkdownHeadingCollapsed": true,
    "tags": []
   },
   "source": [
    "# Who am I ? \n",
    "\n",
    "```ipython\n",
    "In [1]: whoami\n",
    "Out[1]: Amine Dirhoussi, 🇲🇦 freelance Data scientist/Data engineer.\n",
    "        Currently working on Document AI. \n",
    "        Loves distributed systems. \n",
    "        Amateur Grappler and Kickboxer.\n",
    "\n",
    "In [2]: whereis(amine)\n",
    "Out[2]: 🤖 github.com/aminediro\n",
    "        twitch.tv/aminediro\n",
    "        📖 medium.com/@aminedirhoussi1\n",
    "        linkedin.com/in/ahmed-amine-dirhoussi-45213886/\n",
    "\n",
    "```"
   ]
  },
  {
   "cell_type": "markdown",
   "id": "9426899e-3650-4559-85bd-0bae80fa94c3",
   "metadata": {
    "tags": []
   },
   "source": [
    "# DaskQueue : a lightweight persistent distributed task queue based on dask"
   ]
  },
  {
   "cell_type": "markdown",
   "id": "2bf53607-e549-4a02-8fdd-449417001721",
   "metadata": {},
   "source": [
    "\n",
    "\n",
    "The `daskqueue` python library leverages Dask Actors to implement distributed tasks-queues. **simple load balanced** `QueuePool` and a `ConsummerPool` class to consume `Messages` from these queues.\n",
    "\n",
    "Actors were introduced in dask *1.23.0*. Actors point to a user-defined-object living on a remote worker. \n",
    "Anyone with that actor handle can call methods on that remote object.\n",
    "\n",
    "Why actors are the essential building blocks of **daskqueue** ? \n",
    "\n",
    "1. Actors are **stateful**, they can hold on to and mutate state. They are allowed to update their state in-place, which is very useful when spawning distributed queues !\n",
    "\n",
    "2. **NO CENTRAL SCHEDULING NEEDED** : Operations on actors sidestep the central scheduler, and so do not contribute to the 4000 task/second overhead. They also avoid an extra network hop and so have lower latencies. Actors can communicate between themselves in a P2P manner, which makes it pretty neat when having a huge number of queue-to-consummers connections.\n"
   ]
  },
  {
   "cell_type": "markdown",
   "id": "be0e47a8-51d5-4196-bd53-47bb30c0ec91",
   "metadata": {},
   "source": [
    "You can simply `pip install` it and start using it right away on your dask cluster. The only dependancy is `dask[distributed]`"
   ]
  },
  {
   "cell_type": "code",
   "execution_count": 1,
   "id": "abbb9ae4-bb79-45e7-a16d-16a6fc48977f",
   "metadata": {
    "scrolled": true,
    "tags": []
   },
   "outputs": [
    {
     "name": "stdout",
     "output_type": "stream",
     "text": [
      "Requirement already satisfied: daskqueue in /home/amine/Documents/coding/daskqueue (0.2.0+2.g106fdcf.dirty)\n",
      "Requirement already satisfied: numpy in /home/amine/Documents/coding/daskqueue/env/lib/python3.10/site-packages (from daskqueue) (1.23.1)\n",
      "Requirement already satisfied: dask>=2022.7.1 in /home/amine/Documents/coding/daskqueue/env/lib/python3.10/site-packages (from daskqueue) (2022.7.1)\n",
      "Requirement already satisfied: distributed>=2022.7.1 in /home/amine/Documents/coding/daskqueue/env/lib/python3.10/site-packages (from daskqueue) (2022.7.1)\n",
      "Requirement already satisfied: packaging>=20.0 in /home/amine/Documents/coding/daskqueue/env/lib/python3.10/site-packages (from dask>=2022.7.1->daskqueue) (21.3)\n",
      "Requirement already satisfied: fsspec>=0.6.0 in /home/amine/Documents/coding/daskqueue/env/lib/python3.10/site-packages (from dask>=2022.7.1->daskqueue) (2022.5.0)\n",
      "Requirement already satisfied: partd>=0.3.10 in /home/amine/Documents/coding/daskqueue/env/lib/python3.10/site-packages (from dask>=2022.7.1->daskqueue) (1.2.0)\n",
      "Requirement already satisfied: cloudpickle>=1.1.1 in /home/amine/Documents/coding/daskqueue/env/lib/python3.10/site-packages (from dask>=2022.7.1->daskqueue) (2.1.0)\n",
      "Requirement already satisfied: toolz>=0.8.2 in /home/amine/Documents/coding/daskqueue/env/lib/python3.10/site-packages (from dask>=2022.7.1->daskqueue) (0.12.0)\n",
      "Requirement already satisfied: pyyaml>=5.3.1 in /home/amine/Documents/coding/daskqueue/env/lib/python3.10/site-packages (from dask>=2022.7.1->daskqueue) (6.0)\n",
      "Requirement already satisfied: locket>=1.0.0 in /home/amine/Documents/coding/daskqueue/env/lib/python3.10/site-packages (from distributed>=2022.7.1->daskqueue) (1.0.0)\n",
      "Requirement already satisfied: tblib>=1.6.0 in /home/amine/Documents/coding/daskqueue/env/lib/python3.10/site-packages (from distributed>=2022.7.1->daskqueue) (1.7.0)\n",
      "Requirement already satisfied: click>=6.6 in /home/amine/Documents/coding/daskqueue/env/lib/python3.10/site-packages (from distributed>=2022.7.1->daskqueue) (8.0.4)\n",
      "Requirement already satisfied: jinja2 in /home/amine/Documents/coding/daskqueue/env/lib/python3.10/site-packages (from distributed>=2022.7.1->daskqueue) (3.1.2)\n",
      "Requirement already satisfied: psutil>=5.0 in /home/amine/Documents/coding/daskqueue/env/lib/python3.10/site-packages (from distributed>=2022.7.1->daskqueue) (5.9.1)\n",
      "Requirement already satisfied: sortedcontainers!=2.0.0,!=2.0.1 in /home/amine/Documents/coding/daskqueue/env/lib/python3.10/site-packages (from distributed>=2022.7.1->daskqueue) (2.4.0)\n",
      "Requirement already satisfied: tornado<6.2,>=6.0.3 in /home/amine/Documents/coding/daskqueue/env/lib/python3.10/site-packages (from distributed>=2022.7.1->daskqueue) (6.1)\n",
      "Requirement already satisfied: zict>=0.1.3 in /home/amine/Documents/coding/daskqueue/env/lib/python3.10/site-packages (from distributed>=2022.7.1->daskqueue) (2.2.0)\n",
      "Requirement already satisfied: urllib3 in /home/amine/Documents/coding/daskqueue/env/lib/python3.10/site-packages (from distributed>=2022.7.1->daskqueue) (1.26.10)\n",
      "Requirement already satisfied: msgpack>=0.6.0 in /home/amine/Documents/coding/daskqueue/env/lib/python3.10/site-packages (from distributed>=2022.7.1->daskqueue) (1.0.4)\n",
      "Requirement already satisfied: pyparsing!=3.0.5,>=2.0.2 in /home/amine/Documents/coding/daskqueue/env/lib/python3.10/site-packages (from packaging>=20.0->dask>=2022.7.1->daskqueue) (3.0.9)\n",
      "Requirement already satisfied: heapdict in /home/amine/Documents/coding/daskqueue/env/lib/python3.10/site-packages (from zict>=0.1.3->distributed>=2022.7.1->daskqueue) (1.0.1)\n",
      "Requirement already satisfied: MarkupSafe>=2.0 in /home/amine/Documents/coding/daskqueue/env/lib/python3.10/site-packages (from jinja2->distributed>=2022.7.1->daskqueue) (2.1.1)\n",
      "\n",
      "\u001b[1m[\u001b[0m\u001b[34;49mnotice\u001b[0m\u001b[1;39;49m]\u001b[0m\u001b[39;49m A new release of pip available: \u001b[0m\u001b[31;49m22.2.2\u001b[0m\u001b[39;49m -> \u001b[0m\u001b[32;49m23.1\u001b[0m\n",
      "\u001b[1m[\u001b[0m\u001b[34;49mnotice\u001b[0m\u001b[1;39;49m]\u001b[0m\u001b[39;49m To update, run: \u001b[0m\u001b[32;49mpip install --upgrade pip\u001b[0m\n",
      "Note: you may need to restart the kernel to use updated packages.\n"
     ]
    }
   ],
   "source": [
    "%pip install daskqueue"
   ]
  },
  {
   "cell_type": "code",
   "execution_count": 2,
   "id": "59119925-a775-42a2-8fb3-1ca9741046ac",
   "metadata": {},
   "outputs": [],
   "source": [
    "from daskqueue import ConsumerPool, QueuePool, Durability\n",
    "from distributed import Client, LocalCluster\n",
    "from pprint import pprint"
   ]
  },
  {
   "cell_type": "markdown",
   "id": "2567370f-370c-4d65-8191-19612eca3d16",
   "metadata": {},
   "source": [
    "Let's define a simple task we want to distribute"
   ]
  },
  {
   "cell_type": "code",
   "execution_count": 3,
   "id": "63a90a10-bac3-4493-83a1-78937d954a93",
   "metadata": {},
   "outputs": [],
   "source": [
    "def process_item():\n",
    "    return sum(i * i for i in range(10**2))"
   ]
  },
  {
   "cell_type": "markdown",
   "id": "56a8d3b6-67f1-4c93-a714-b95faee87a42",
   "metadata": {
    "tags": []
   },
   "source": [
    "## Connect to a dask cluster"
   ]
  },
  {
   "cell_type": "markdown",
   "id": "5154f35a-8a95-46f0-be70-1604e7035688",
   "metadata": {},
   "source": [
    "`daskqueue` uses dask actor under the hood. Starting a dask client with `direct_to_workers` set to `True` will bypass the scheduler and provide direct communication to workers."
   ]
  },
  {
   "cell_type": "code",
   "execution_count": 4,
   "id": "46f699ec-0637-43b8-8238-66bc536010a6",
   "metadata": {},
   "outputs": [
    {
     "data": {
      "text/html": [
       "<div>\n",
       "    <div style=\"width: 24px; height: 24px; background-color: #e1e1e1; border: 3px solid #9D9D9D; border-radius: 5px; position: absolute;\"> </div>\n",
       "    <div style=\"margin-left: 48px;\">\n",
       "        <h3 style=\"margin-bottom: 0px;\">Client</h3>\n",
       "        <p style=\"color: #9D9D9D; margin-bottom: 0px;\">Client-d5491474-df8e-11ed-9600-f990a58db690</p>\n",
       "        <table style=\"width: 100%; text-align: left;\">\n",
       "\n",
       "        <tr>\n",
       "        \n",
       "            <td style=\"text-align: left;\"><strong>Connection method:</strong> Direct</td>\n",
       "            <td style=\"text-align: left;\"></td>\n",
       "        \n",
       "        </tr>\n",
       "\n",
       "        \n",
       "            <tr>\n",
       "                <td style=\"text-align: left;\">\n",
       "                    <strong>Dashboard: </strong> <a href=\"http://127.0.0.1:8787/status\" target=\"_blank\">http://127.0.0.1:8787/status</a>\n",
       "                </td>\n",
       "                <td style=\"text-align: left;\"></td>\n",
       "            </tr>\n",
       "        \n",
       "\n",
       "        </table>\n",
       "\n",
       "        \n",
       "            <details>\n",
       "            <summary style=\"margin-bottom: 20px;\"><h3 style=\"display: inline;\">Scheduler Info</h3></summary>\n",
       "            <div style=\"\">\n",
       "    <div>\n",
       "        <div style=\"width: 24px; height: 24px; background-color: #FFF7E5; border: 3px solid #FF6132; border-radius: 5px; position: absolute;\"> </div>\n",
       "        <div style=\"margin-left: 48px;\">\n",
       "            <h3 style=\"margin-bottom: 0px;\">Scheduler</h3>\n",
       "            <p style=\"color: #9D9D9D; margin-bottom: 0px;\">Scheduler-255eba72-2ffa-4b64-8767-ec15f21585fd</p>\n",
       "            <table style=\"width: 100%; text-align: left;\">\n",
       "                <tr>\n",
       "                    <td style=\"text-align: left;\">\n",
       "                        <strong>Comm:</strong> tcp://127.0.0.1:46107\n",
       "                    </td>\n",
       "                    <td style=\"text-align: left;\">\n",
       "                        <strong>Workers:</strong> 4\n",
       "                    </td>\n",
       "                </tr>\n",
       "                <tr>\n",
       "                    <td style=\"text-align: left;\">\n",
       "                        <strong>Dashboard:</strong> <a href=\"http://127.0.0.1:8787/status\" target=\"_blank\">http://127.0.0.1:8787/status</a>\n",
       "                    </td>\n",
       "                    <td style=\"text-align: left;\">\n",
       "                        <strong>Total threads:</strong> 12\n",
       "                    </td>\n",
       "                </tr>\n",
       "                <tr>\n",
       "                    <td style=\"text-align: left;\">\n",
       "                        <strong>Started:</strong> 20 minutes ago\n",
       "                    </td>\n",
       "                    <td style=\"text-align: left;\">\n",
       "                        <strong>Total memory:</strong> 31.29 GiB\n",
       "                    </td>\n",
       "                </tr>\n",
       "            </table>\n",
       "        </div>\n",
       "    </div>\n",
       "\n",
       "    <details style=\"margin-left: 48px;\">\n",
       "        <summary style=\"margin-bottom: 20px;\">\n",
       "            <h3 style=\"display: inline;\">Workers</h3>\n",
       "        </summary>\n",
       "\n",
       "        \n",
       "        <div style=\"margin-bottom: 20px;\">\n",
       "            <div style=\"width: 24px; height: 24px; background-color: #DBF5FF; border: 3px solid #4CC9FF; border-radius: 5px; position: absolute;\"> </div>\n",
       "            <div style=\"margin-left: 48px;\">\n",
       "            <details>\n",
       "                <summary>\n",
       "                    <h4 style=\"margin-bottom: 0px; display: inline;\">Worker: 0</h4>\n",
       "                </summary>\n",
       "                <table style=\"width: 100%; text-align: left;\">\n",
       "                    <tr>\n",
       "                        <td style=\"text-align: left;\">\n",
       "                            <strong>Comm: </strong> tcp://127.0.0.1:34763\n",
       "                        </td>\n",
       "                        <td style=\"text-align: left;\">\n",
       "                            <strong>Total threads: </strong> 3\n",
       "                        </td>\n",
       "                    </tr>\n",
       "                    <tr>\n",
       "                        <td style=\"text-align: left;\">\n",
       "                            <strong>Dashboard: </strong> <a href=\"http://127.0.0.1:39739/status\" target=\"_blank\">http://127.0.0.1:39739/status</a>\n",
       "                        </td>\n",
       "                        <td style=\"text-align: left;\">\n",
       "                            <strong>Memory: </strong> 7.82 GiB\n",
       "                        </td>\n",
       "                    </tr>\n",
       "                    <tr>\n",
       "                        <td style=\"text-align: left;\">\n",
       "                            <strong>Nanny: </strong> tcp://127.0.0.1:35003\n",
       "                        </td>\n",
       "                        <td style=\"text-align: left;\"></td>\n",
       "                    </tr>\n",
       "                    <tr>\n",
       "                        <td colspan=\"2\" style=\"text-align: left;\">\n",
       "                            <strong>Local directory: </strong> /tmp/dask-worker-space/worker-hpaezvfy\n",
       "                        </td>\n",
       "                    </tr>\n",
       "\n",
       "                    \n",
       "\n",
       "                    \n",
       "                    <tr>\n",
       "                        <td style=\"text-align: left;\">\n",
       "                            <strong>Tasks executing: </strong> 0\n",
       "                        </td>\n",
       "                        <td style=\"text-align: left;\">\n",
       "                            <strong>Tasks in memory: </strong> 0\n",
       "                        </td>\n",
       "                    </tr>\n",
       "                    <tr>\n",
       "                        <td style=\"text-align: left;\">\n",
       "                            <strong>Tasks ready: </strong> 0\n",
       "                        </td>\n",
       "                        <td style=\"text-align: left;\">\n",
       "                            <strong>Tasks in flight: </strong>0\n",
       "                        </td>\n",
       "                    </tr>\n",
       "                    <tr>\n",
       "                        <td style=\"text-align: left;\">\n",
       "                            <strong>CPU usage:</strong> 2.0%\n",
       "                        </td>\n",
       "                        <td style=\"text-align: left;\">\n",
       "                            <strong>Last seen: </strong> Just now\n",
       "                        </td>\n",
       "                    </tr>\n",
       "                    <tr>\n",
       "                        <td style=\"text-align: left;\">\n",
       "                            <strong>Memory usage: </strong> 99.02 MiB\n",
       "                        </td>\n",
       "                        <td style=\"text-align: left;\">\n",
       "                            <strong>Spilled bytes: </strong> 0 B\n",
       "                        </td>\n",
       "                    </tr>\n",
       "                    <tr>\n",
       "                        <td style=\"text-align: left;\">\n",
       "                            <strong>Read bytes: </strong> 786.86 kiB\n",
       "                        </td>\n",
       "                        <td style=\"text-align: left;\">\n",
       "                            <strong>Write bytes: </strong> 221.67 kiB\n",
       "                        </td>\n",
       "                    </tr>\n",
       "                    \n",
       "\n",
       "                </table>\n",
       "            </details>\n",
       "            </div>\n",
       "        </div>\n",
       "        \n",
       "        <div style=\"margin-bottom: 20px;\">\n",
       "            <div style=\"width: 24px; height: 24px; background-color: #DBF5FF; border: 3px solid #4CC9FF; border-radius: 5px; position: absolute;\"> </div>\n",
       "            <div style=\"margin-left: 48px;\">\n",
       "            <details>\n",
       "                <summary>\n",
       "                    <h4 style=\"margin-bottom: 0px; display: inline;\">Worker: 1</h4>\n",
       "                </summary>\n",
       "                <table style=\"width: 100%; text-align: left;\">\n",
       "                    <tr>\n",
       "                        <td style=\"text-align: left;\">\n",
       "                            <strong>Comm: </strong> tcp://127.0.0.1:33607\n",
       "                        </td>\n",
       "                        <td style=\"text-align: left;\">\n",
       "                            <strong>Total threads: </strong> 3\n",
       "                        </td>\n",
       "                    </tr>\n",
       "                    <tr>\n",
       "                        <td style=\"text-align: left;\">\n",
       "                            <strong>Dashboard: </strong> <a href=\"http://127.0.0.1:46365/status\" target=\"_blank\">http://127.0.0.1:46365/status</a>\n",
       "                        </td>\n",
       "                        <td style=\"text-align: left;\">\n",
       "                            <strong>Memory: </strong> 7.82 GiB\n",
       "                        </td>\n",
       "                    </tr>\n",
       "                    <tr>\n",
       "                        <td style=\"text-align: left;\">\n",
       "                            <strong>Nanny: </strong> tcp://127.0.0.1:40531\n",
       "                        </td>\n",
       "                        <td style=\"text-align: left;\"></td>\n",
       "                    </tr>\n",
       "                    <tr>\n",
       "                        <td colspan=\"2\" style=\"text-align: left;\">\n",
       "                            <strong>Local directory: </strong> /tmp/dask-worker-space/worker-soflq2z7\n",
       "                        </td>\n",
       "                    </tr>\n",
       "\n",
       "                    \n",
       "\n",
       "                    \n",
       "                    <tr>\n",
       "                        <td style=\"text-align: left;\">\n",
       "                            <strong>Tasks executing: </strong> 0\n",
       "                        </td>\n",
       "                        <td style=\"text-align: left;\">\n",
       "                            <strong>Tasks in memory: </strong> 0\n",
       "                        </td>\n",
       "                    </tr>\n",
       "                    <tr>\n",
       "                        <td style=\"text-align: left;\">\n",
       "                            <strong>Tasks ready: </strong> 0\n",
       "                        </td>\n",
       "                        <td style=\"text-align: left;\">\n",
       "                            <strong>Tasks in flight: </strong>0\n",
       "                        </td>\n",
       "                    </tr>\n",
       "                    <tr>\n",
       "                        <td style=\"text-align: left;\">\n",
       "                            <strong>CPU usage:</strong> 2.0%\n",
       "                        </td>\n",
       "                        <td style=\"text-align: left;\">\n",
       "                            <strong>Last seen: </strong> Just now\n",
       "                        </td>\n",
       "                    </tr>\n",
       "                    <tr>\n",
       "                        <td style=\"text-align: left;\">\n",
       "                            <strong>Memory usage: </strong> 99.18 MiB\n",
       "                        </td>\n",
       "                        <td style=\"text-align: left;\">\n",
       "                            <strong>Spilled bytes: </strong> 0 B\n",
       "                        </td>\n",
       "                    </tr>\n",
       "                    <tr>\n",
       "                        <td style=\"text-align: left;\">\n",
       "                            <strong>Read bytes: </strong> 834.70 kiB\n",
       "                        </td>\n",
       "                        <td style=\"text-align: left;\">\n",
       "                            <strong>Write bytes: </strong> 222.07 kiB\n",
       "                        </td>\n",
       "                    </tr>\n",
       "                    \n",
       "\n",
       "                </table>\n",
       "            </details>\n",
       "            </div>\n",
       "        </div>\n",
       "        \n",
       "        <div style=\"margin-bottom: 20px;\">\n",
       "            <div style=\"width: 24px; height: 24px; background-color: #DBF5FF; border: 3px solid #4CC9FF; border-radius: 5px; position: absolute;\"> </div>\n",
       "            <div style=\"margin-left: 48px;\">\n",
       "            <details>\n",
       "                <summary>\n",
       "                    <h4 style=\"margin-bottom: 0px; display: inline;\">Worker: 2</h4>\n",
       "                </summary>\n",
       "                <table style=\"width: 100%; text-align: left;\">\n",
       "                    <tr>\n",
       "                        <td style=\"text-align: left;\">\n",
       "                            <strong>Comm: </strong> tcp://127.0.0.1:38489\n",
       "                        </td>\n",
       "                        <td style=\"text-align: left;\">\n",
       "                            <strong>Total threads: </strong> 3\n",
       "                        </td>\n",
       "                    </tr>\n",
       "                    <tr>\n",
       "                        <td style=\"text-align: left;\">\n",
       "                            <strong>Dashboard: </strong> <a href=\"http://127.0.0.1:32817/status\" target=\"_blank\">http://127.0.0.1:32817/status</a>\n",
       "                        </td>\n",
       "                        <td style=\"text-align: left;\">\n",
       "                            <strong>Memory: </strong> 7.82 GiB\n",
       "                        </td>\n",
       "                    </tr>\n",
       "                    <tr>\n",
       "                        <td style=\"text-align: left;\">\n",
       "                            <strong>Nanny: </strong> tcp://127.0.0.1:43445\n",
       "                        </td>\n",
       "                        <td style=\"text-align: left;\"></td>\n",
       "                    </tr>\n",
       "                    <tr>\n",
       "                        <td colspan=\"2\" style=\"text-align: left;\">\n",
       "                            <strong>Local directory: </strong> /tmp/dask-worker-space/worker-_c3p2emt\n",
       "                        </td>\n",
       "                    </tr>\n",
       "\n",
       "                    \n",
       "\n",
       "                    \n",
       "                    <tr>\n",
       "                        <td style=\"text-align: left;\">\n",
       "                            <strong>Tasks executing: </strong> 0\n",
       "                        </td>\n",
       "                        <td style=\"text-align: left;\">\n",
       "                            <strong>Tasks in memory: </strong> 0\n",
       "                        </td>\n",
       "                    </tr>\n",
       "                    <tr>\n",
       "                        <td style=\"text-align: left;\">\n",
       "                            <strong>Tasks ready: </strong> 0\n",
       "                        </td>\n",
       "                        <td style=\"text-align: left;\">\n",
       "                            <strong>Tasks in flight: </strong>0\n",
       "                        </td>\n",
       "                    </tr>\n",
       "                    <tr>\n",
       "                        <td style=\"text-align: left;\">\n",
       "                            <strong>CPU usage:</strong> 2.0%\n",
       "                        </td>\n",
       "                        <td style=\"text-align: left;\">\n",
       "                            <strong>Last seen: </strong> Just now\n",
       "                        </td>\n",
       "                    </tr>\n",
       "                    <tr>\n",
       "                        <td style=\"text-align: left;\">\n",
       "                            <strong>Memory usage: </strong> 99.19 MiB\n",
       "                        </td>\n",
       "                        <td style=\"text-align: left;\">\n",
       "                            <strong>Spilled bytes: </strong> 0 B\n",
       "                        </td>\n",
       "                    </tr>\n",
       "                    <tr>\n",
       "                        <td style=\"text-align: left;\">\n",
       "                            <strong>Read bytes: </strong> 835.16 kiB\n",
       "                        </td>\n",
       "                        <td style=\"text-align: left;\">\n",
       "                            <strong>Write bytes: </strong> 218.77 kiB\n",
       "                        </td>\n",
       "                    </tr>\n",
       "                    \n",
       "\n",
       "                </table>\n",
       "            </details>\n",
       "            </div>\n",
       "        </div>\n",
       "        \n",
       "        <div style=\"margin-bottom: 20px;\">\n",
       "            <div style=\"width: 24px; height: 24px; background-color: #DBF5FF; border: 3px solid #4CC9FF; border-radius: 5px; position: absolute;\"> </div>\n",
       "            <div style=\"margin-left: 48px;\">\n",
       "            <details>\n",
       "                <summary>\n",
       "                    <h4 style=\"margin-bottom: 0px; display: inline;\">Worker: 3</h4>\n",
       "                </summary>\n",
       "                <table style=\"width: 100%; text-align: left;\">\n",
       "                    <tr>\n",
       "                        <td style=\"text-align: left;\">\n",
       "                            <strong>Comm: </strong> tcp://127.0.0.1:40197\n",
       "                        </td>\n",
       "                        <td style=\"text-align: left;\">\n",
       "                            <strong>Total threads: </strong> 3\n",
       "                        </td>\n",
       "                    </tr>\n",
       "                    <tr>\n",
       "                        <td style=\"text-align: left;\">\n",
       "                            <strong>Dashboard: </strong> <a href=\"http://127.0.0.1:38017/status\" target=\"_blank\">http://127.0.0.1:38017/status</a>\n",
       "                        </td>\n",
       "                        <td style=\"text-align: left;\">\n",
       "                            <strong>Memory: </strong> 7.82 GiB\n",
       "                        </td>\n",
       "                    </tr>\n",
       "                    <tr>\n",
       "                        <td style=\"text-align: left;\">\n",
       "                            <strong>Nanny: </strong> tcp://127.0.0.1:36767\n",
       "                        </td>\n",
       "                        <td style=\"text-align: left;\"></td>\n",
       "                    </tr>\n",
       "                    <tr>\n",
       "                        <td colspan=\"2\" style=\"text-align: left;\">\n",
       "                            <strong>Local directory: </strong> /tmp/dask-worker-space/worker-15pige2e\n",
       "                        </td>\n",
       "                    </tr>\n",
       "\n",
       "                    \n",
       "\n",
       "                    \n",
       "                    <tr>\n",
       "                        <td style=\"text-align: left;\">\n",
       "                            <strong>Tasks executing: </strong> 0\n",
       "                        </td>\n",
       "                        <td style=\"text-align: left;\">\n",
       "                            <strong>Tasks in memory: </strong> 0\n",
       "                        </td>\n",
       "                    </tr>\n",
       "                    <tr>\n",
       "                        <td style=\"text-align: left;\">\n",
       "                            <strong>Tasks ready: </strong> 0\n",
       "                        </td>\n",
       "                        <td style=\"text-align: left;\">\n",
       "                            <strong>Tasks in flight: </strong>0\n",
       "                        </td>\n",
       "                    </tr>\n",
       "                    <tr>\n",
       "                        <td style=\"text-align: left;\">\n",
       "                            <strong>CPU usage:</strong> 2.0%\n",
       "                        </td>\n",
       "                        <td style=\"text-align: left;\">\n",
       "                            <strong>Last seen: </strong> Just now\n",
       "                        </td>\n",
       "                    </tr>\n",
       "                    <tr>\n",
       "                        <td style=\"text-align: left;\">\n",
       "                            <strong>Memory usage: </strong> 98.59 MiB\n",
       "                        </td>\n",
       "                        <td style=\"text-align: left;\">\n",
       "                            <strong>Spilled bytes: </strong> 0 B\n",
       "                        </td>\n",
       "                    </tr>\n",
       "                    <tr>\n",
       "                        <td style=\"text-align: left;\">\n",
       "                            <strong>Read bytes: </strong> 787.05 kiB\n",
       "                        </td>\n",
       "                        <td style=\"text-align: left;\">\n",
       "                            <strong>Write bytes: </strong> 222.84 kiB\n",
       "                        </td>\n",
       "                    </tr>\n",
       "                    \n",
       "\n",
       "                </table>\n",
       "            </details>\n",
       "            </div>\n",
       "        </div>\n",
       "        \n",
       "\n",
       "    </details>\n",
       "</div>\n",
       "            </details>\n",
       "        \n",
       "\n",
       "    </div>\n",
       "</div>"
      ],
      "text/plain": [
       "<Client: 'tcp://127.0.0.1:46107' processes=4 threads=12, memory=31.29 GiB>"
      ]
     },
     "execution_count": 4,
     "metadata": {},
     "output_type": "execute_result"
    }
   ],
   "source": [
    "from dask.distributed import Client\n",
    "\n",
    "client = Client(\"tcp://127.0.0.1:46107\",direct_to_workers=True)\n",
    "client"
   ]
  },
  {
   "cell_type": "markdown",
   "id": "c9638a27-7e2d-4f39-8ca9-02883a5d252a",
   "metadata": {
    "tags": []
   },
   "source": [
    "## Daskqueue : getting started"
   ]
  },
  {
   "cell_type": "markdown",
   "id": "082a0e31-d114-4a59-9df0-f4f846291d6c",
   "metadata": {},
   "source": [
    "<center>\n",
    "  <img src=\"https://miro.medium.com/v2/resize:fit:720/format:webp/1*ov_HTf-Bzhu6UFIo9ZO38A.jpeg\" />\n",
    "</center>"
   ]
  },
  {
   "cell_type": "markdown",
   "id": "dac2f55b-1071-4022-a409-cc6564edcbc5",
   "metadata": {
    "tags": []
   },
   "source": [
    "### Instantiate the queue pool\n",
    "- The QueuePool manages n-queues actors\n",
    "- The QueuePool distributes work across the n queues using a simple round-robin"
   ]
  },
  {
   "cell_type": "code",
   "execution_count": 5,
   "id": "aa60d6b0-f17e-4aa8-9cdc-9b7268d2063d",
   "metadata": {},
   "outputs": [
    {
     "name": "stderr",
     "output_type": "stream",
     "text": [
      "2023-04-20 17:20:37,770,770 INFO: Created 2 queues in Cluster and one QueueManager.\n"
     ]
    },
    {
     "data": {
      "text/plain": [
       "QueuePool : 2 queue(s)\n",
       "\tTransientQueue-05169e3a-fa33-4c94-b9b2-07e6f7f7efc4: 0 pending items\n",
       "\tTransientQueue-95729a11-f3ba-4c55-a7d8-8de60ec2f1fa: 0 pending items"
      ]
     },
     "execution_count": 5,
     "metadata": {},
     "output_type": "execute_result"
    }
   ],
   "source": [
    "n_queues = 2\n",
    "queue_pool = QueuePool(client,n_queues=n_queues)\n",
    "queue_pool"
   ]
  },
  {
   "cell_type": "markdown",
   "id": "b55eaf9b-fd7e-4128-ba28-2f708d61d6e7",
   "metadata": {},
   "source": [
    "### Instantiate a consumer pool"
   ]
  },
  {
   "cell_type": "markdown",
   "id": "df62d836-f101-4e60-acae-6de3cd7f5edf",
   "metadata": {},
   "source": [
    "Each spawned consumer will contact the Queuepool to get an assigned queue to pull from. The queuepool assigned a queue to a consumer in round robin fashion. We can't have a `number_consumers < number_queues`"
   ]
  },
  {
   "cell_type": "code",
   "execution_count": 6,
   "id": "752751ad-cc7d-4eb5-a776-3478d882f2e4",
   "metadata": {},
   "outputs": [
    {
     "data": {
      "text/plain": [
       "Consumers : 2 Consumers(s)\n",
       "\tGeneralConsumer-0: 0 received, 0 pending tasks\n",
       "\tGeneralConsumer-1: 0 received, 0 pending tasks"
      ]
     },
     "execution_count": 6,
     "metadata": {},
     "output_type": "execute_result"
    }
   ],
   "source": [
    "n_consumers=2\n",
    "consumer_pool = ConsumerPool(client,queue_pool,n_consumers=n_consumers)\n",
    "consumer_pool"
   ]
  },
  {
   "cell_type": "markdown",
   "id": "bc3d63a7-0144-41e5-8cc2-280711a8f5d9",
   "metadata": {
    "tags": []
   },
   "source": [
    "### Submit work"
   ]
  },
  {
   "cell_type": "markdown",
   "id": "5466f6c8-4d8b-425b-8e75-17b22f831203",
   "metadata": {},
   "source": [
    "We're going to submit 10 tasks to the queuepool."
   ]
  },
  {
   "cell_type": "code",
   "execution_count": 7,
   "id": "d9457e95-7389-4c6e-88d3-215e6ff901ff",
   "metadata": {},
   "outputs": [],
   "source": [
    "N = 10\n",
    "for _ in range(N): \n",
    "    queue_pool.submit(process_item)"
   ]
  },
  {
   "cell_type": "code",
   "execution_count": 8,
   "id": "a3f92d44-eb3f-4eb9-adac-e548e4ddb7db",
   "metadata": {},
   "outputs": [
    {
     "data": {
      "text/plain": [
       "QueuePool : 2 queue(s)\n",
       "\tTransientQueue-05169e3a-fa33-4c94-b9b2-07e6f7f7efc4: 5 pending items\n",
       "\tTransientQueue-95729a11-f3ba-4c55-a7d8-8de60ec2f1fa: 5 pending items"
      ]
     },
     "execution_count": 8,
     "metadata": {},
     "output_type": "execute_result"
    }
   ],
   "source": [
    "queue_pool"
   ]
  },
  {
   "cell_type": "code",
   "execution_count": 9,
   "id": "d59deeb6-1df7-46a3-a76b-884ed4bc567d",
   "metadata": {},
   "outputs": [
    {
     "name": "stderr",
     "output_type": "stream",
     "text": [
      "2023-04-20 17:21:12,733,733 INFO: Starting 2 consumers\n"
     ]
    }
   ],
   "source": [
    "# Starting the worker to start polling work from an assigned queue\n",
    "consumer_pool.start()"
   ]
  },
  {
   "cell_type": "code",
   "execution_count": 10,
   "id": "503d11d2-6dfe-426d-92cf-905918bcbcec",
   "metadata": {},
   "outputs": [
    {
     "name": "stderr",
     "output_type": "stream",
     "text": [
      "2023-04-20 17:21:14,327,327 INFO: Waiting for the 2 consumers to process all items in queue_pool...\n",
      "2023-04-20 17:21:14,336,336 INFO: All consumers are done ! 10 items processed. \n",
      "2023-04-20 17:21:14,337,337 INFO: Cancelling 2 consumers.\n",
      "2023-04-20 17:21:14,339,339 INFO: Consumer state : None\n"
     ]
    }
   ],
   "source": [
    "consumer_pool.join()"
   ]
  },
  {
   "cell_type": "code",
   "execution_count": 11,
   "id": "42bf8cb9-25a7-4a05-8318-66562bf434eb",
   "metadata": {},
   "outputs": [],
   "source": [
    "result = consumer_pool.results()"
   ]
  },
  {
   "cell_type": "markdown",
   "id": "5151c31b-6005-46f2-a103-711c70fa5da8",
   "metadata": {},
   "source": [
    "We can retrieve the results by calling the`.results()` from the consumerpool. The method return a dict `mapping` each worker to a `default_dict` of `{hash(msg) : result}`"
   ]
  },
  {
   "cell_type": "code",
   "execution_count": 12,
   "id": "e1867df8-bbfb-48f6-9853-369f5d899ff5",
   "metadata": {
    "tags": []
   },
   "outputs": [
    {
     "name": "stdout",
     "output_type": "stream",
     "text": [
      "{'GeneralConsumer-0': defaultdict(<function GeneralConsumer.__init__.<locals>.<lambda> at 0x7fd955dc93f0>,\n",
      "                                  {692322777257066378: 328350,\n",
      "                                   708434128201522032: 328350,\n",
      "                                   1339246389826661926: 328350,\n",
      "                                   1502975474082217614: 328350,\n",
      "                                   1507791329801986328: 328350}),\n",
      " 'GeneralConsumer-1': defaultdict(<function GeneralConsumer.__init__.<locals>.<lambda> at 0x7fd955dc9510>,\n",
      "                                  {149798472518062484: 328350,\n",
      "                                   822411524003274166: 328350,\n",
      "                                   1826531207948055505: 328350,\n",
      "                                   2079226159229595093: 328350,\n",
      "                                   2105286298775364967: 328350})}\n"
     ]
    }
   ],
   "source": [
    "pprint(result)"
   ]
  },
  {
   "cell_type": "markdown",
   "id": "af6feb2b-c3ac-4f3c-b87c-90f19b40610a",
   "metadata": {},
   "source": [
    "### Batch submission\n",
    "\n",
    "\n",
    "Nothing new here ! Dask can already do this (very well I might add ). \n",
    "\n",
    "> **Let's now see why daskqueue exists ?**\n",
    "\n",
    "For all its greatness, Dask implements a **central scheduler**  involved in every decision, which can sometimes create a **central bottleneck**. This is a pretty serious limitation when trying use Dask in **high throughput** situation. \n",
    "\n",
    "A simple Task Queue is usually the best approach when trying to thousands or distribute millions of tasks.\n",
    "\n"
   ]
  },
  {
   "cell_type": "code",
   "execution_count": 13,
   "id": "5be4ebcd-c726-4473-bcd0-8f2dfab487f3",
   "metadata": {},
   "outputs": [
    {
     "data": {
      "text/plain": [
       "Consumers : \n",
       "\t5 Consumers(s), \n",
       "\t0 received \n",
       "\t0 pending "
      ]
     },
     "execution_count": 13,
     "metadata": {},
     "output_type": "execute_result"
    }
   ],
   "source": [
    "n_consumers = 5\n",
    "batch_size = 1000\n",
    "consumer_pool = ConsumerPool(client,queue_pool,n_consumers=n_consumers,batch_size=batch_size)\n",
    "consumer_pool"
   ]
  },
  {
   "cell_type": "markdown",
   "id": "68560932-84b1-4dad-80c7-6198111b9214",
   "metadata": {},
   "source": [
    "We can start before submitting messages to the queuepool. The consumers will asynchronously fetch work from a dedicted queue."
   ]
  },
  {
   "cell_type": "code",
   "execution_count": 14,
   "id": "7f215887-b4c4-4cc6-8769-eab33a9eff11",
   "metadata": {},
   "outputs": [],
   "source": [
    "n_msgs = 100_000\n",
    "batch_size = 10_000"
   ]
  },
  {
   "cell_type": "code",
   "execution_count": 15,
   "id": "5052c305-4f23-413e-b32f-5d892e82c34e",
   "metadata": {},
   "outputs": [],
   "source": [
    "msgs = queue_pool.batch_submit([(process_item,) for _ in range(n_msgs)],batch_size=batch_size)"
   ]
  },
  {
   "cell_type": "code",
   "execution_count": 16,
   "id": "af2094da-87f2-41fe-a24c-7965d3aff285",
   "metadata": {},
   "outputs": [
    {
     "name": "stderr",
     "output_type": "stream",
     "text": [
      "2023-04-20 17:22:48,479,479 INFO: Starting 5 consumers\n"
     ]
    }
   ],
   "source": [
    "consumer_pool.start()"
   ]
  },
  {
   "cell_type": "code",
   "execution_count": 17,
   "id": "79ecd2b4-ab16-4199-97f8-86e3f0d816fe",
   "metadata": {
    "tags": []
   },
   "outputs": [
    {
     "name": "stderr",
     "output_type": "stream",
     "text": [
      "2023-04-20 17:22:48,663,663 INFO: Waiting for the 5 consumers to process all items in queue_pool...\n",
      "2023-04-20 17:22:50,832,832 INFO: QueuePool : 2 queue(s)\n",
      "\tTransientQueue-05169e3a-fa33-4c94-b9b2-07e6f7f7efc4: 48000 pending items\n",
      "\tTransientQueue-95729a11-f3ba-4c55-a7d8-8de60ec2f1fa: 50000 pending items\n",
      "2023-04-20 17:22:50,832,832 INFO: Consumers : \n",
      "\t5 Consumers(s), \n",
      "\t4000 received \n",
      "\t5 pending \n",
      "2023-04-20 17:22:53,663,663 INFO: QueuePool : 2 queue(s)\n",
      "\tTransientQueue-05169e3a-fa33-4c94-b9b2-07e6f7f7efc4: 32000 pending items\n",
      "\tTransientQueue-95729a11-f3ba-4c55-a7d8-8de60ec2f1fa: 39000 pending items\n",
      "2023-04-20 17:22:53,663,663 INFO: Consumers : \n",
      "\t5 Consumers(s), \n",
      "\t27863 received \n",
      "\t8 pending \n",
      "2023-04-20 17:22:55,969,969 INFO: QueuePool : 2 queue(s)\n",
      "\tTransientQueue-05169e3a-fa33-4c94-b9b2-07e6f7f7efc4: 18000 pending items\n",
      "\tTransientQueue-95729a11-f3ba-4c55-a7d8-8de60ec2f1fa: 31000 pending items\n",
      "2023-04-20 17:22:55,970,970 INFO: Consumers : \n",
      "\t5 Consumers(s), \n",
      "\t49110 received \n",
      "\t10 pending \n",
      "2023-04-20 17:22:58,223,223 INFO: QueuePool : 2 queue(s)\n",
      "\tTransientQueue-05169e3a-fa33-4c94-b9b2-07e6f7f7efc4: 6000 pending items\n",
      "\tTransientQueue-95729a11-f3ba-4c55-a7d8-8de60ec2f1fa: 23000 pending items\n",
      "2023-04-20 17:22:58,224,224 INFO: Consumers : \n",
      "\t5 Consumers(s), \n",
      "\t68462 received \n",
      "\t10 pending \n",
      "2023-04-20 17:23:00,541,541 INFO: QueuePool : 2 queue(s)\n",
      "\tTransientQueue-05169e3a-fa33-4c94-b9b2-07e6f7f7efc4: 0 pending items\n",
      "\tTransientQueue-95729a11-f3ba-4c55-a7d8-8de60ec2f1fa: 15000 pending items\n",
      "2023-04-20 17:23:00,542,542 INFO: Consumers : \n",
      "\t5 Consumers(s), \n",
      "\t83903 received \n",
      "\t3 pending \n",
      "2023-04-20 17:23:02,937,937 INFO: QueuePool : 2 queue(s)\n",
      "\tTransientQueue-05169e3a-fa33-4c94-b9b2-07e6f7f7efc4: 0 pending items\n",
      "\tTransientQueue-95729a11-f3ba-4c55-a7d8-8de60ec2f1fa: 8000 pending items\n",
      "2023-04-20 17:23:02,938,938 INFO: Consumers : \n",
      "\t5 Consumers(s), \n",
      "\t91475 received \n",
      "\t4 pending \n",
      "2023-04-20 17:23:05,105,105 INFO: QueuePool : 2 queue(s)\n",
      "\tTransientQueue-05169e3a-fa33-4c94-b9b2-07e6f7f7efc4: 0 pending items\n",
      "\tTransientQueue-95729a11-f3ba-4c55-a7d8-8de60ec2f1fa: 1000 pending items\n",
      "2023-04-20 17:23:05,106,106 INFO: Consumers : \n",
      "\t5 Consumers(s), \n",
      "\t98867 received \n",
      "\t4 pending \n",
      "2023-04-20 17:23:05,453,453 INFO: All consumers are done ! 99724 items processed. \n",
      "2023-04-20 17:23:05,453,453 INFO: Cancelling 5 consumers.\n",
      "2023-04-20 17:23:06,212,212 INFO: Consumer state : None\n"
     ]
    }
   ],
   "source": [
    "# We can watch consumer progress\n",
    "consumer_pool.join(progress=True)"
   ]
  },
  {
   "cell_type": "code",
   "execution_count": 18,
   "id": "93d83768-a274-4ac3-b362-40fbdaf897c3",
   "metadata": {},
   "outputs": [
    {
     "data": {
      "text/plain": [
       "Consumers : \n",
       "\t5 Consumers(s), \n",
       "\t100000 received \n",
       "\t0 pending "
      ]
     },
     "execution_count": 18,
     "metadata": {},
     "output_type": "execute_result"
    }
   ],
   "source": [
    "consumer_pool"
   ]
  },
  {
   "cell_type": "markdown",
   "id": "2605ed50-289d-4e57-9a43-7373f8fb52f6",
   "metadata": {
    "tags": []
   },
   "source": [
    "## Durable Queues vs Transient\n"
   ]
  },
  {
   "cell_type": "markdown",
   "id": "3be64851-848c-43a8-af03-61b5c172ef2d",
   "metadata": {},
   "source": [
    "Another major feature that daskqueue provides is the **queues durability**. In environments and use cases where durability is important, applications must use durable queues and make sure that published messages are persisted.\n",
    "\n",
    "- Transient Queue store messages in memory\n",
    "- Durable queue use on-disk data structure to save the messages\n",
    "- Durable queues point to a single directory per queue\n",
    "- Durable queues will be recovered on cluster reboot\n",
    "\n",
    "\n",
    "I wrote an in-depth blog post where I discuss the various implementation details : https://medium.com/@aminedirhoussi1/daskqueue-dask-based-distributed-task-queue-6fb95517dfea"
   ]
  },
  {
   "cell_type": "markdown",
   "id": "815bdf4d-5545-49c3-aba6-3da06a21bf6d",
   "metadata": {},
   "source": [
    "<center>\n",
    "  <img src=\"https://miro.medium.com/v2/resize:fit:720/format:webp/1*mQgpVYJ5bbM2srxLkJ0RNg.jpeg\" />\n",
    "</center>\n"
   ]
  },
  {
   "cell_type": "code",
   "execution_count": 19,
   "id": "412e7677-3d9b-4687-a958-87d6f494162b",
   "metadata": {},
   "outputs": [],
   "source": [
    "!rm -rf queue_dir\n",
    "\n",
    "_  = client.restart()"
   ]
  },
  {
   "cell_type": "code",
   "execution_count": 20,
   "id": "96cab91b-0d7c-4f73-b34f-f9fdc5ce8dcc",
   "metadata": {},
   "outputs": [],
   "source": [
    "n_queues = 2\n",
    "n_consumers = 4\n",
    "n_msgs = 100_000\n",
    "batch_size =10_000"
   ]
  },
  {
   "cell_type": "code",
   "execution_count": 21,
   "id": "5dd9321e-14e5-4caa-8d71-81418099f0f6",
   "metadata": {},
   "outputs": [
    {
     "name": "stderr",
     "output_type": "stream",
     "text": [
      "2023-04-20 17:23:47,347,347 INFO: Created 2 queues in Cluster and one QueueManager.\n"
     ]
    },
    {
     "data": {
      "text/plain": [
       "QueuePool : 2 queue(s)\n",
       "\tDurableQueue-3d59b47d-e2ee-4c30-b470-d3fde2a00d18: 0 pending items\n",
       "\tDurableQueue-84f0f3ec-f15e-4b17-b166-9f362b115ea8: 0 pending items"
      ]
     },
     "execution_count": 21,
     "metadata": {},
     "output_type": "execute_result"
    }
   ],
   "source": [
    "queue_pool = QueuePool(client, n_queues, durability=\"durable\",dirpath='notebooks/queue_dir')\n",
    "queue_pool"
   ]
  },
  {
   "cell_type": "markdown",
   "id": "0c16cd3e-6d13-4e05-9934-c4a753eb1c62",
   "metadata": {},
   "source": [
    "What just happened? We can take a look at the created directory. `daskqueue` created a dedicated directory  per queue each with a `LogSegment` file and an `IndexSegment`. \n",
    "\n",
    "```bash\n",
    "queue_dir\n",
    "├── default-queue-0\n",
    "│   ├── 00000000000000000000.log\n",
    "│   └── default-queue-0.index\n",
    "└── default-queue-1\n",
    "    ├── 00000000000000000000.log\n",
    "    └── default-queue-1.index\n",
    "```\n",
    "The `IndexSegment` file is [**bitcask**](https://docs.riak.com/riak/kv/2.2.3/setup/planning/backend/bitcask/index.html) data structure that is read to memory on startup. The bitcask  provides : \n",
    "- Low latency per item read or written\n",
    "- Predictable lookup and insert performance\n",
    "- Fast, bounded crash recovery and easy backup\n",
    "\n",
    "The `LogSegment` file stores the actual message and is `mmaped` into memory."
   ]
  },
  {
   "cell_type": "markdown",
   "id": "7baf0f18-5885-4c70-8a43-06e62744a9ed",
   "metadata": {},
   "source": [
    "We can now submit work to the `queue_pool` as before, but now the tasks are persisted to disk."
   ]
  },
  {
   "cell_type": "code",
   "execution_count": 22,
   "id": "418206af-9fd0-4841-a16a-b31da69a15ed",
   "metadata": {},
   "outputs": [],
   "source": [
    "tasks = [(process_item,) for _ in range(n_msgs)]"
   ]
  },
  {
   "cell_type": "code",
   "execution_count": 23,
   "id": "85ad2a4b-dbef-48bf-a480-8ef2b1c2ddc8",
   "metadata": {
    "tags": []
   },
   "outputs": [
    {
     "data": {
      "text/plain": [
       "QueuePool : 2 queue(s)\n",
       "\tDurableQueue-3d59b47d-e2ee-4c30-b470-d3fde2a00d18: 50000 pending items\n",
       "\tDurableQueue-84f0f3ec-f15e-4b17-b166-9f362b115ea8: 50000 pending items"
      ]
     },
     "execution_count": 23,
     "metadata": {},
     "output_type": "execute_result"
    }
   ],
   "source": [
    "msgs = queue_pool.batch_submit(tasks,batch_size=10_000)\n",
    "queue_pool"
   ]
  },
  {
   "cell_type": "code",
   "execution_count": 24,
   "id": "9a5a6b81-ca05-41a2-87b6-908fa951ff00",
   "metadata": {},
   "outputs": [
    {
     "name": "stdout",
     "output_type": "stream",
     "text": [
      " 52.4M     ┌──default-queue-0.index   │██████░░░░░░░░░░░░                  │ 17%\n",
      "104.9M     ├──00000000000000000000.log│████████████░░░░░░                  │ 33%\n",
      "157.3M   ┌─┴default-queue-0           │██████████████████                  │ 50%\n",
      " 52.4M   │ ┌──default-queue-1.index   │██████░░░░░░░░░░░░                  │ 17%\n",
      "104.9M   │ ├──00000000000000000000.log│████████████░░░░░░                  │ 33%\n",
      "157.3M   ├─┴default-queue-1           │██████████████████                  │ 50%\n",
      "314.6M ┌─┴queue_dir/                  │████████████████████████████████████│100%\n"
     ]
    }
   ],
   "source": [
    "!pdu --max-depth 3 queue_dir/"
   ]
  },
  {
   "cell_type": "markdown",
   "id": "683fe264-7e26-47c7-a374-1c21a23d356d",
   "metadata": {},
   "source": [
    "----\n",
    "Let's simulate a sudden cluster shutdown. We will try to access the `queue_pool` handle after the cluster restart just to be sure that we lost the actor."
   ]
  },
  {
   "cell_type": "code",
   "execution_count": 25,
   "id": "c4977e0b-ecc6-4272-9533-592327ec84db",
   "metadata": {},
   "outputs": [
    {
     "name": "stdout",
     "output_type": "stream",
     "text": [
      "Worker holding Actor was lost.  Status: cancelled\n"
     ]
    }
   ],
   "source": [
    "client.restart()\n",
    "\n",
    "try : \n",
    "    print(queue_pool)\n",
    "except Exception as e: \n",
    "    print(e)"
   ]
  },
  {
   "cell_type": "markdown",
   "id": "f117929c-8110-4a6e-a2ad-8c3980937bad",
   "metadata": {},
   "source": [
    "Now, let's respawn the **QueuePool** with the same config and see the queue content. "
   ]
  },
  {
   "cell_type": "code",
   "execution_count": 26,
   "id": "771b7144-3194-4b0a-b4d9-033e11162197",
   "metadata": {},
   "outputs": [
    {
     "name": "stderr",
     "output_type": "stream",
     "text": [
      "2023-04-20 17:25:11,926,926 INFO: Created 2 queues in Cluster and one QueueManager.\n"
     ]
    },
    {
     "data": {
      "text/plain": [
       "QueuePool : 2 queue(s)\n",
       "\tDurableQueue-c69ce240-fe25-4fea-87a3-d47a0c516127: 50000 pending items\n",
       "\tDurableQueue-f74d83a3-277b-4b9c-8ab4-9b6f151b4071: 50000 pending items"
      ]
     },
     "execution_count": 26,
     "metadata": {},
     "output_type": "execute_result"
    }
   ],
   "source": [
    "queue_pool = QueuePool(client, n_queues, durability=\"durable\",dirpath='notebooks/queue_dir')\n",
    "queue_pool"
   ]
  },
  {
   "cell_type": "markdown",
   "id": "2baff35d-924d-42b3-b8d4-4455fc4d0de8",
   "metadata": {},
   "source": [
    "> **We see that we didn't lose any items !** 😍 "
   ]
  },
  {
   "cell_type": "code",
   "execution_count": 27,
   "id": "4304538f-588c-4fb1-b16b-4bc6e2a3d9c5",
   "metadata": {},
   "outputs": [
    {
     "data": {
      "text/plain": [
       "Consumers : 4 Consumers(s)\n",
       "\tGeneralConsumer-0: 0 received, 0 pending tasks\n",
       "\tGeneralConsumer-1: 0 received, 0 pending tasks\n",
       "\tGeneralConsumer-2: 0 received, 0 pending tasks\n",
       "\tGeneralConsumer-3: 0 received, 0 pending tasks"
      ]
     },
     "execution_count": 27,
     "metadata": {},
     "output_type": "execute_result"
    }
   ],
   "source": [
    "consumer_pool = ConsumerPool(client,queue_pool,n_consumers=n_consumers,batch_size=1000)\n",
    "consumer_pool"
   ]
  },
  {
   "cell_type": "code",
   "execution_count": 28,
   "id": "0101ceea-79cf-44f2-a6cf-d9f433b43570",
   "metadata": {
    "scrolled": true,
    "tags": []
   },
   "outputs": [
    {
     "name": "stderr",
     "output_type": "stream",
     "text": [
      "2023-04-20 17:25:16,615,615 INFO: Starting 4 consumers\n",
      "2023-04-20 17:25:16,616,616 INFO: Waiting for the 4 consumers to process all items in queue_pool...\n",
      "2023-04-20 17:25:18,950,950 INFO: QueuePool : 2 queue(s)\n",
      "\tDurableQueue-c69ce240-fe25-4fea-87a3-d47a0c516127: 43000 pending items\n",
      "\tDurableQueue-f74d83a3-277b-4b9c-8ab4-9b6f151b4071: 43000 pending items\n",
      "2023-04-20 17:25:18,951,951 INFO: Consumers : 4 Consumers(s)\n",
      "\tGeneralConsumer-0: 4580 received, 2 pending tasks\n",
      "\tGeneralConsumer-1: 5000 received, 1 pending tasks\n",
      "\tGeneralConsumer-2: 3894 received, 2 pending tasks\n",
      "\tGeneralConsumer-3: 2405 received, 2 pending tasks\n",
      "2023-04-20 17:25:21,467,467 INFO: QueuePool : 2 queue(s)\n",
      "\tDurableQueue-c69ce240-fe25-4fea-87a3-d47a0c516127: 33000 pending items\n",
      "\tDurableQueue-f74d83a3-277b-4b9c-8ab4-9b6f151b4071: 33000 pending items\n",
      "2023-04-20 17:25:21,468,468 INFO: Consumers : 4 Consumers(s)\n",
      "\tGeneralConsumer-0: 9062 received, 2 pending tasks\n",
      "\tGeneralConsumer-1: 12041 received, 2 pending tasks\n",
      "\tGeneralConsumer-2: 9000 received, 2 pending tasks\n",
      "\tGeneralConsumer-3: 4159 received, 2 pending tasks\n",
      "2023-04-20 17:25:24,180,180 INFO: QueuePool : 2 queue(s)\n",
      "\tDurableQueue-c69ce240-fe25-4fea-87a3-d47a0c516127: 21000 pending items\n",
      "\tDurableQueue-f74d83a3-277b-4b9c-8ab4-9b6f151b4071: 24000 pending items\n",
      "2023-04-20 17:25:24,181,181 INFO: Consumers : 4 Consumers(s)\n",
      "\tGeneralConsumer-0: 15000 received, 1 pending tasks\n",
      "\tGeneralConsumer-1: 19031 received, 2 pending tasks\n",
      "\tGeneralConsumer-2: 14000 received, 2 pending tasks\n",
      "\tGeneralConsumer-3: 7000 received, 2 pending tasks\n",
      "2023-04-20 17:25:26,845,845 INFO: QueuePool : 2 queue(s)\n",
      "\tDurableQueue-c69ce240-fe25-4fea-87a3-d47a0c516127: 12000 pending items\n",
      "\tDurableQueue-f74d83a3-277b-4b9c-8ab4-9b6f151b4071: 14000 pending items\n",
      "2023-04-20 17:25:26,845,845 INFO: Consumers : 4 Consumers(s)\n",
      "\tGeneralConsumer-0: 19003 received, 2 pending tasks\n",
      "\tGeneralConsumer-1: 26000 received, 2 pending tasks\n",
      "\tGeneralConsumer-2: 18304 received, 2 pending tasks\n",
      "\tGeneralConsumer-3: 10053 received, 2 pending tasks\n",
      "2023-04-20 17:25:29,573,573 INFO: QueuePool : 2 queue(s)\n",
      "\tDurableQueue-c69ce240-fe25-4fea-87a3-d47a0c516127: 3000 pending items\n",
      "\tDurableQueue-f74d83a3-277b-4b9c-8ab4-9b6f151b4071: 3000 pending items\n",
      "2023-04-20 17:25:29,574,574 INFO: Consumers : 4 Consumers(s)\n",
      "\tGeneralConsumer-0: 24000 received, 1 pending tasks\n",
      "\tGeneralConsumer-1: 34000 received, 1 pending tasks\n",
      "\tGeneralConsumer-2: 23031 received, 2 pending tasks\n",
      "\tGeneralConsumer-3: 14000 received, 2 pending tasks\n",
      "2023-04-20 17:25:30,449,449 INFO: All consumers are done ! 99239 items processed. \n",
      "2023-04-20 17:25:30,450,450 INFO: Cancelling 4 consumers.\n",
      "2023-04-20 17:25:30,585,585 INFO: Consumer state : None\n"
     ]
    }
   ],
   "source": [
    "consumer_pool.start()\n",
    "consumer_pool.join(progress=True)"
   ]
  },
  {
   "cell_type": "code",
   "execution_count": 29,
   "id": "5d64d90f-d51d-41c1-92e2-ed2ced79874c",
   "metadata": {},
   "outputs": [
    {
     "data": {
      "text/plain": [
       "Consumers : 4 Consumers(s)\n",
       "\tGeneralConsumer-0: 25000 received, 0 pending tasks\n",
       "\tGeneralConsumer-1: 35000 received, 0 pending tasks\n",
       "\tGeneralConsumer-2: 25000 received, 0 pending tasks\n",
       "\tGeneralConsumer-3: 15000 received, 0 pending tasks"
      ]
     },
     "execution_count": 29,
     "metadata": {},
     "output_type": "execute_result"
    }
   ],
   "source": [
    "consumer_pool"
   ]
  },
  {
   "cell_type": "code",
   "execution_count": null,
   "id": "f7860482-4408-4901-a9ce-aeda38da44d8",
   "metadata": {},
   "outputs": [],
   "source": [
    "assert sum([len(r) for _ , r in consumer_pool.results().items()]) == n_msgs"
   ]
  },
  {
   "cell_type": "code",
   "execution_count": null,
   "id": "5061cc2c-4bb4-4393-a71d-6177ed8e6f50",
   "metadata": {},
   "outputs": [],
   "source": []
  }
 ],
 "metadata": {
  "kernelspec": {
   "display_name": "Python 3 (ipykernel)",
   "language": "python",
   "name": "python3"
  },
  "language_info": {
   "codemirror_mode": {
    "name": "ipython",
    "version": 3
   },
   "file_extension": ".py",
   "mimetype": "text/x-python",
   "name": "python",
   "nbconvert_exporter": "python",
   "pygments_lexer": "ipython3",
   "version": "3.10.8"
  }
 },
 "nbformat": 4,
 "nbformat_minor": 5
}
